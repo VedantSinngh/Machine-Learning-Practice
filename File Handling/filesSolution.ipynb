{
 "cells": [
  {
   "cell_type": "code",
   "execution_count": null,
   "metadata": {},
   "outputs": [],
   "source": [
    "def read_and_print_file():\n",
    "    with open('sample.txt', 'r') as file:\n",
    "        for line in file:\n",
    "            print(line.strip())\n",
    "\n",
    "# Call the function to read and print the file contents\n",
    "read_and_print_file()"
   ]
  },
  {
   "cell_type": "code",
   "execution_count": 3,
   "metadata": {},
   "outputs": [
    {
     "name": "stdout",
     "output_type": "stream",
     "text": [
      "Hello, this is a sample text file.\n",
      "You can write anything you want here.\n",
      "This is the third line.\n",
      "Here is the fourth line.\n",
      "And this is the fifth line."
     ]
    }
   ],
   "source": [
    "def fun1():\n",
    "    with open ('sample.txt', 'r') as file:\n",
    "        for line in file:\n",
    "            print(line, end='')\n",
    "fun1()"
   ]
  },
  {
   "cell_type": "code",
   "execution_count": 5,
   "metadata": {},
   "outputs": [],
   "source": [
    "def write_list_to_file(strings):\n",
    "    with open('output.txt', 'w') as file:\n",
    "        for string in strings:\n",
    "            file.write(string + '\\n')\n",
    "\n",
    "# Example usage\n",
    "strings = ['Hello', 'World', 'This', 'is', 'a', 'test']\n",
    "write_list_to_file(strings)"
   ]
  },
  {
   "cell_type": "code",
   "execution_count": 7,
   "metadata": {},
   "outputs": [],
   "source": [
    "def fun2(strings):\n",
    "    with open(\"output.txt\", 'w') as file:\n",
    "        for string in strings:\n",
    "            file.write(string + '\\n')\n",
    "# Example Usage\n",
    "strings = ['Hello', 'World', 'This', 'is', 'a', 'new', 'file']\n",
    "fun2(strings)"
   ]
  },
  {
   "cell_type": "code",
   "execution_count": 3,
   "metadata": {},
   "outputs": [
    {
     "name": "stdout",
     "output_type": "stream",
     "text": [
      "The source file does not exist.\n",
      "Hello\n",
      "World\n",
      "This\n",
      "is\n",
      "a\n",
      "new\n",
      "file\n"
     ]
    }
   ],
   "source": [
    "# Copy a file \n",
    "def fun3():\n",
    "        with open(\"output.txt\",'r') as file:\n",
    "            content = file.read()\n",
    "        with open (\"sample.txt\",'w') as file:\n",
    "            file.write(content)\n",
    "        print(\"The source file does not exist.\")\n",
    "        print(content)\n",
    "fun3()"
   ]
  },
  {
   "cell_type": "code",
   "execution_count": null,
   "metadata": {},
   "outputs": [],
   "source": [
    "# Write a function that appends a given string to the end of a file named `log.txt`.\n",
    "def fun4():\n",
    "    with open('output.txt', 'a') as file:\n",
    "        "
   ]
  }
 ],
 "metadata": {
  "kernelspec": {
   "display_name": "base",
   "language": "python",
   "name": "python3"
  },
  "language_info": {
   "codemirror_mode": {
    "name": "ipython",
    "version": 3
   },
   "file_extension": ".py",
   "mimetype": "text/x-python",
   "name": "python",
   "nbconvert_exporter": "python",
   "pygments_lexer": "ipython3",
   "version": "3.12.8"
  }
 },
 "nbformat": 4,
 "nbformat_minor": 2
}
